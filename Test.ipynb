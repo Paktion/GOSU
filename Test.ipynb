{
 "cells": [
  {
   "cell_type": "code",
   "execution_count": 15,
   "metadata": {},
   "outputs": [
    {
     "name": "stdout",
     "output_type": "stream",
     "text": [
      "Herrick Transit Hub | 39.997568999999, -83.018118999999\n",
      "11th & Worthington | 39.995426999999, -83.012267000001\n",
      "Ohio Union (Northbound) | 39.997857999999, -83.009564\n",
      "Arps Hall | 40.002478000001, -83.010531\n",
      "Blackburn House | 40.004003999999, -83.012460999999\n",
      "Mason Hall | 40.004117, -83.015499999999\n",
      "St. John Arena (Westbound) | 40.004299999999, -83.020758000002\n",
      "Mid West Campus (Westbound) | 40.004579000001, -83.026416999999\n",
      "Mount Hall Loop | 40.003742000001, -83.036783000002\n",
      "Carmack 5 + Stop 1 | 40.002781, -83.042454000001\n",
      "Carmack 5 + Stop 2 | 40.002897999999, -83.041104\n",
      "Research Center | 39.998758000001, -83.042627999999\n",
      "Kinnear Road Lot | 39.997739, -83.037975000001\n",
      "Blankenship Hall | 40.003181999999, -83.033337000001\n",
      "Mid West Campus (Eastbound) | 40.004251, -83.026541000001\n",
      "St. John East Bound | 40.004047999999, -83.020743999998\n",
      "Knowlton Hall | 40.003978999999, -83.016142000001\n",
      "Fontana Lab | 40.003838999999, -83.013196999999\n",
      "Stillman Hall | 40.001706000001, -83.010660000001\n",
      "Ohio Union (Southbound) | 39.997810000001, -83.009831\n",
      "Siebert Hall | 39.995506999999, -83.012071999998\n",
      "Mack Hall | 39.995923999999, -83.014619999999\n"
     ]
    }
   ],
   "source": [
    "import requests\n",
    "import json\n",
    "\n",
    "arrayDict = json.loads(requests.get('https://content.osu.edu/v2/bus/routes/CC').text).get('data').get('stops')\n",
    "\n",
    "for i in range(len(arrayDict)):\n",
    "    print(str(arrayDict[i].get('name')) + \" | (\" + str(arrayDict[i].get('latitude')) + \", \" + str(arrayDict[i].get('longitude'))+\")\")\n",
    "\n"
   ]
  }
 ],
 "metadata": {
  "language_info": {
   "name": "python"
  }
 },
 "nbformat": 4,
 "nbformat_minor": 2
}
