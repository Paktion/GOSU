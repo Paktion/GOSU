{
 "cells": [
  {
   "cell_type": "code",
   "execution_count": 15,
   "metadata": {},
   "outputs": [],
   "source": [
    "import requests\n",
    "import json\n",
    "\n",
    "arrayDict = json.loads(requests.get('https://content.osu.edu/v2/bus/routes/CC').text).get('data').get('stops')\n",
    "\n",
    "with open('stops.txt', 'w') as f:\n",
    "    for i in range(len(arrayDict)):\n",
    "        f.write(str(arrayDict[i].get('name')) + \"\\n\")\n",
    "        f.write(str(arrayDict[i].get('latitude'))+ \"\\n\")\n",
    "        f.write(str(arrayDict[i].get('longitude'))+ \"\\n\")\n",
    "        f.write(\"\\n\")\n"
   ]
  }
 ],
 "metadata": {
  "language_info": {
   "name": "python"
  }
 },
 "nbformat": 4,
 "nbformat_minor": 2
}
